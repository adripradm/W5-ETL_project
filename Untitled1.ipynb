{
 "cells": [
  {
   "cell_type": "code",
   "execution_count": null,
   "id": "df554426",
   "metadata": {},
   "outputs": [],
   "source": [
    "def wallapop(url2):\n",
    "    \n",
    "    url2='https://es.wallapop.com/app/search?category_ids=100&filters_source=seo_landing&longitude=-3.69196&latitude=40.41956'  \n",
    "    driver=webdriver.Chrome(PATH, options=opciones)\n",
    "    driver.get(url2)\n",
    "    sleep(randint(1,2))\n",
    "    cookies=driver.find_element_by_xpath('//*[@id=\"didomi-notice-agree-button\"]')\n",
    "    cookies.click()\n",
    "    sleep(randint(2,10))\n",
    "    roll=driver.find_element_by_xpath('//*[@id=\"btn-load-more\"]/button')\n",
    "    roll.click()\n",
    "    def run_script():\n",
    "    \n",
    "        driver.execute_script(\"window.scrollTo(0, document.body.scrollHeight);\")\n",
    "\n",
    "    count = 0\n",
    "    while count < 80:\n",
    "        run_script()\n",
    "        count+=1\n",
    "        time.sleep(2)\n",
    "\n",
    "    soup = bs(driver.page_source, 'html.parser')\n",
    "\n",
    "    modelo =[e.text.strip().split('\\n') for e in soup.find_all(class_='ItemCardWide__title d-inline-block text-truncate w-100')]\n",
    "    precio=[\" \".join(i.text.strip().split('\\n')) for i in soup.find_all(class_='ItemCardWide__price ItemCardWide__price--bold')]\n",
    "    combustible=[\" \".join(c.text.split('\\n')) for c in soup.find_all(class_='ItemExtraInfo d-flex')]\n",
    "    \n",
    "    df=pd.DataFrame(modelo)\n",
    "    df['precio']=precio\n",
    "    df['caracteristicas']=combustible\n",
    "    df.rename(columns={0: \"modelo\"}, inplace=True)\n",
    "    \n",
    "    \n",
    "    return df\n",
    "    \n",
    "    "
   ]
  }
 ],
 "metadata": {
  "kernelspec": {
   "display_name": "Python 3 (ipykernel)",
   "language": "python",
   "name": "python3"
  },
  "language_info": {
   "codemirror_mode": {
    "name": "ipython",
    "version": 3
   },
   "file_extension": ".py",
   "mimetype": "text/x-python",
   "name": "python",
   "nbconvert_exporter": "python",
   "pygments_lexer": "ipython3",
   "version": "3.9.7"
  }
 },
 "nbformat": 4,
 "nbformat_minor": 5
}
