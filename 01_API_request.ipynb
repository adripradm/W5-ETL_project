{
 "cells": [
  {
   "cell_type": "markdown",
   "id": "distinct-fitting",
   "metadata": {
    "toc": true
   },
   "source": [
    "<h1>Table of Contents<span class=\"tocSkip\"></span></h1>\n",
    "<div class=\"toc\"><ul class=\"toc-item\"></ul></div>"
   ]
  },
  {
   "cell_type": "code",
   "execution_count": 1,
   "id": "israeli-packing",
   "metadata": {},
   "outputs": [],
   "source": [
    "import sys\n",
    "sys.path.append(\"../\")"
   ]
  },
  {
   "cell_type": "code",
   "execution_count": 3,
   "id": "chemical-bridge",
   "metadata": {},
   "outputs": [],
   "source": [
    "from src.apifunctions import *\n",
    "import pandas as pd"
   ]
  },
  {
   "cell_type": "code",
   "execution_count": 45,
   "id": "sonic-sleep",
   "metadata": {},
   "outputs": [
    {
     "data": {
      "text/plain": [
       "0"
      ]
     },
     "execution_count": 45,
     "metadata": {},
     "output_type": "execute_result"
    }
   ],
   "source": [
    "lista= \".......\\nX.......\"\n",
    "j=list(lista)\n",
    "j.index('X')-j.index('\\n')-1"
   ]
  },
  {
   "cell_type": "code",
   "execution_count": 38,
   "id": "2ccc5a95",
   "metadata": {},
   "outputs": [
    {
     "data": {
      "text/plain": [
       "['.......', 'X.......']"
      ]
     },
     "execution_count": 38,
     "metadata": {},
     "output_type": "execute_result"
    }
   ],
   "source": [
    "ship=lista.split('\\n')\n"
   ]
  },
  {
   "cell_type": "code",
   "execution_count": 112,
   "id": "b4a3e3a0",
   "metadata": {},
   "outputs": [
    {
     "data": {
      "text/plain": [
       "['..', 'X.']"
      ]
     },
     "execution_count": 112,
     "metadata": {},
     "output_type": "execute_result"
    }
   ],
   "source": [
    "astromap=\"..\\nX.\"\n",
    "nave=astromap.split('\\n')\n",
    "nave"
   ]
  },
  {
   "cell_type": "code",
   "execution_count": 115,
   "id": "24a3e387",
   "metadata": {},
   "outputs": [],
   "source": [
    "def find_spaceship(astromap):\n",
    "    \n",
    "    nave=astromap.split('\\n')\n",
    "    \n",
    "    for i in nave:\n",
    "        for letter in i:\n",
    "            if letter=='X':\n",
    "        \n",
    "        \n",
    "                return[nave.index(i),i.index('X')]\n",
    "            "
   ]
  },
  {
   "cell_type": "code",
   "execution_count": 116,
   "id": "87a562e0",
   "metadata": {},
   "outputs": [
    {
     "data": {
      "text/plain": [
       "[1, 0]"
      ]
     },
     "execution_count": 116,
     "metadata": {},
     "output_type": "execute_result"
    }
   ],
   "source": [
    "find_spaceship(astromap)"
   ]
  },
  {
   "cell_type": "code",
   "execution_count": 75,
   "id": "e9bb0e69",
   "metadata": {},
   "outputs": [
    {
     "data": {
      "text/plain": [
       "<generator object <genexpr> at 0x00000244212E0190>"
      ]
     },
     "execution_count": 75,
     "metadata": {},
     "output_type": "execute_result"
    }
   ],
   "source": [
    "g = (i for i, e in enumerate(lst) if e == 'X')\n",
    "g"
   ]
  },
  {
   "cell_type": "code",
   "execution_count": 92,
   "id": "fb5cb2d1",
   "metadata": {},
   "outputs": [
    {
     "name": "stdout",
     "output_type": "stream",
     "text": [
      "the index of i is:  -1\n",
      "the index of i is:  -1\n",
      "the index of i is:  -1\n",
      "the index of i is:  -1\n",
      "the index of i is:  -1\n",
      "the index of i is:  -1\n",
      "the index of i is:  -1\n",
      "the index of i is:  -1\n",
      "the index of i is:  -1\n",
      "the index of i is:  -1\n"
     ]
    }
   ],
   "source": [
    "s=nave\n",
    "start=0\n",
    "for i in nave:\n",
    "    while start<len(i):  \n",
    "         print (\"the index of i is: \", i.find('X',start,len(i)))\n",
    "         start=start+1"
   ]
  },
  {
   "cell_type": "code",
   "execution_count": 91,
   "id": "abcf3ac3",
   "metadata": {},
   "outputs": [
    {
     "name": "stdout",
     "output_type": "stream",
     "text": [
      "10\n",
      "10\n",
      "10\n",
      "10\n",
      "10\n"
     ]
    }
   ],
   "source": [
    "for i in nave:\n",
    "    print(len(i))"
   ]
  },
  {
   "cell_type": "code",
   "execution_count": 100,
   "id": "9572691d",
   "metadata": {},
   "outputs": [
    {
     "name": "stdout",
     "output_type": "stream",
     "text": [
      "7\n",
      "2\n"
     ]
    }
   ],
   "source": [
    "for i in nave:\n",
    "    for letter in i:\n",
    "        if letter=='X':\n",
    "            print(i.index('X'))\n",
    "            print(nave.index(i))"
   ]
  },
  {
   "cell_type": "code",
   "execution_count": null,
   "id": "18519669",
   "metadata": {},
   "outputs": [],
   "source": []
  }
 ],
 "metadata": {
  "kernelspec": {
   "display_name": "Python 3 (ipykernel)",
   "language": "python",
   "name": "python3"
  },
  "language_info": {
   "codemirror_mode": {
    "name": "ipython",
    "version": 3
   },
   "file_extension": ".py",
   "mimetype": "text/x-python",
   "name": "python",
   "nbconvert_exporter": "python",
   "pygments_lexer": "ipython3",
   "version": "3.9.7"
  },
  "toc": {
   "base_numbering": 1,
   "nav_menu": {},
   "number_sections": true,
   "sideBar": true,
   "skip_h1_title": false,
   "title_cell": "Table of Contents",
   "title_sidebar": "Contents",
   "toc_cell": true,
   "toc_position": {},
   "toc_section_display": true,
   "toc_window_display": false
  },
  "varInspector": {
   "cols": {
    "lenName": 16,
    "lenType": 16,
    "lenVar": 40
   },
   "kernels_config": {
    "python": {
     "delete_cmd_postfix": "",
     "delete_cmd_prefix": "del ",
     "library": "var_list.py",
     "varRefreshCmd": "print(var_dic_list())"
    },
    "r": {
     "delete_cmd_postfix": ") ",
     "delete_cmd_prefix": "rm(",
     "library": "var_list.r",
     "varRefreshCmd": "cat(var_dic_list()) "
    }
   },
   "types_to_exclude": [
    "module",
    "function",
    "builtin_function_or_method",
    "instance",
    "_Feature"
   ],
   "window_display": false
  }
 },
 "nbformat": 4,
 "nbformat_minor": 5
}
